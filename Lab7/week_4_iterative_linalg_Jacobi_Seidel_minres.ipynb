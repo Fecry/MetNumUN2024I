{
  "cells": [
    {
      "cell_type": "markdown",
      "metadata": {
        "id": "view-in-github",
        "colab_type": "text"
      },
      "source": [
        "<a href=\"https://colab.research.google.com/github/Fecry/MetNumUN2024I/blob/main/Lab7/week_4_iterative_linalg_Jacobi_Seidel_minres.ipynb\" target=\"_parent\"><img src=\"https://colab.research.google.com/assets/colab-badge.svg\" alt=\"Open In Colab\"/></a>"
      ]
    },
    {
      "cell_type": "markdown",
      "source": [
        "# Grupo 22\n",
        "\n",
        "#### Integrantes:\n",
        "\n",
        "\n",
        "*   (22) Jesus Andres Inguilan Paguay\n",
        "*   (42) Cristian Felipe Ramirez Montenegro\n",
        "*   (55) Victor Manuel Torres Alonso\n"
      ],
      "metadata": {
        "id": "VoVfUrnUXPAi"
      }
    },
    {
      "cell_type": "markdown",
      "metadata": {
        "id": "jxMJ2_fyncc9"
      },
      "source": [
        "# Simple iteration for systems of linear equations"
      ]
    },
    {
      "cell_type": "markdown",
      "metadata": {
        "id": "GravMmFBncdB"
      },
      "source": [
        "First, generate a random diagonally dominant matrix, for testing."
      ]
    },
    {
      "cell_type": "code",
      "execution_count": 1,
      "metadata": {
        "collapsed": true,
        "id": "EDJmeMM_ncdC"
      },
      "outputs": [],
      "source": [
        "import numpy as np\n",
        "rndm = np.random.RandomState(1234)\n",
        "\n",
        "n = 10\n",
        "A = rndm.uniform(size=(n, n)) + np.diagflat([15]*n)\n",
        "b = rndm.uniform(size=n)"
      ]
    },
    {
      "cell_type": "markdown",
      "metadata": {
        "id": "_1kAe0KkncdD"
      },
      "source": [
        "# I.  Jacobi iteration\n",
        "\n",
        "Given\n",
        "\n",
        "$$\n",
        "A x = b\n",
        "$$\n",
        "\n",
        "separate the diagonal part $D$,\n",
        "\n",
        "$$ A = D + (A - D) $$\n",
        "\n",
        "and write\n",
        "\n",
        "$$\n",
        "x = D^{-1} (D - A) x + D^{-1} b\\;.\n",
        "$$\n",
        "\n",
        "Then iterate\n",
        "\n",
        "$$\n",
        "x_{n + 1} = B x_{n} + c\\;,\n",
        "$$\n",
        "\n",
        "where\n",
        "\n",
        "$$\n",
        "B = D^{-1} (A - D) \\qquad \\text{and} \\qquad c = D^{-1} b\n",
        "$$\n"
      ]
    },
    {
      "cell_type": "markdown",
      "metadata": {
        "id": "iYbDsaDhncdE"
      },
      "source": [
        "Let's construct the matrix and the r.h.s. for the Jacobi iteration"
      ]
    },
    {
      "cell_type": "code",
      "execution_count": 2,
      "metadata": {
        "id": "BwXPGvmvncdE"
      },
      "outputs": [],
      "source": [
        "diag_1d = np.diag(A)\n",
        "\n",
        "B = -A.copy()\n",
        "np.fill_diagonal(B, 0)\n",
        "\n",
        "D = np.diag(diag_1d)\n",
        "invD = np.diag(1./diag_1d)\n",
        "BB = invD @ B\n",
        "c = invD @ b"
      ]
    },
    {
      "cell_type": "code",
      "execution_count": 3,
      "metadata": {
        "id": "AqATbH6rncdE"
      },
      "outputs": [],
      "source": [
        "# sanity checks\n",
        "from numpy.testing import assert_allclose\n",
        "\n",
        "assert_allclose(-B + D, A)\n",
        "\n",
        "\n",
        "# xx is a \"ground truth\" solution, compute it using a direct method\n",
        "xx = np.linalg.solve(A, b)\n",
        "\n",
        "np.testing.assert_allclose(A@xx, b)\n",
        "np.testing.assert_allclose(D@xx, B@xx + b)\n",
        "np.testing.assert_allclose(xx, BB@xx + c)"
      ]
    },
    {
      "cell_type": "markdown",
      "metadata": {
        "id": "pUj6eczLncdF"
      },
      "source": [
        "Check that $\\| B\\| \\leqslant 1$:"
      ]
    },
    {
      "cell_type": "code",
      "execution_count": 4,
      "metadata": {
        "id": "94J2RpudncdF",
        "outputId": "e868c0e1-fe95-4404-daf6-3c412a16b038",
        "colab": {
          "base_uri": "https://localhost:8080/"
        }
      },
      "outputs": [
        {
          "output_type": "execute_result",
          "data": {
            "text/plain": [
              "0.36436161983015336"
            ]
          },
          "metadata": {},
          "execution_count": 4
        }
      ],
      "source": [
        "np.linalg.norm(BB)"
      ]
    },
    {
      "cell_type": "markdown",
      "metadata": {
        "id": "_EAOMPafncdG"
      },
      "source": [
        "### Do the Jacobi iteration"
      ]
    },
    {
      "cell_type": "code",
      "execution_count": 5,
      "metadata": {
        "collapsed": true,
        "id": "iWGh3rJbncdG"
      },
      "outputs": [],
      "source": [
        "n_iter = 50\n",
        "\n",
        "x0 = np.ones(n)\n",
        "x = x0\n",
        "for _ in range(n_iter):\n",
        "    x = BB @ x + c"
      ]
    },
    {
      "cell_type": "code",
      "execution_count": 6,
      "metadata": {
        "id": "k062IS1MncdG",
        "outputId": "7f1ab3a1-d034-4741-8779-a935a7bbc439",
        "colab": {
          "base_uri": "https://localhost:8080/"
        }
      },
      "outputs": [
        {
          "output_type": "execute_result",
          "data": {
            "text/plain": [
              "array([ 1.11022302e-16,  0.00000000e+00, -2.22044605e-16, -1.11022302e-16,\n",
              "        1.11022302e-16,  0.00000000e+00, -2.42861287e-17,  0.00000000e+00,\n",
              "       -2.77555756e-17,  1.11022302e-16])"
            ]
          },
          "metadata": {},
          "execution_count": 6
        }
      ],
      "source": [
        "# Check the result:\n",
        "\n",
        "A @ x - b"
      ]
    },
    {
      "cell_type": "markdown",
      "metadata": {
        "id": "5TjMuFkPncdH"
      },
      "source": [
        "### Task I.1\n",
        "\n",
        "Collect the proof-of-concept above into a single function implementing the Jacobi iteration. This function should receive the r.h.s. matrix $A$, the l.h.s. vector `b`, and the number of iterations to perform.\n",
        "\n",
        "\n",
        "The matrix $A$ in the illustration above is strongly diagonally dominant, by construction.\n",
        "What happens if the diagonal matrix elements of $A$ are made smaller? Check the convergence of the Jacobi iteration, and check the value of the norm of $B$.\n",
        "\n",
        "(20% of the total grade)\n"
      ]
    },
    {
      "cell_type": "code",
      "execution_count": 7,
      "metadata": {
        "collapsed": true,
        "id": "a8gKq1vBncdH",
        "colab": {
          "base_uri": "https://localhost:8080/"
        },
        "outputId": "e1c6d04a-0589-4ef3-e97b-7c37cb05ed4a"
      },
      "outputs": [
        {
          "output_type": "execute_result",
          "data": {
            "text/plain": [
              "(array([ 0.03919429,  0.03780037,  0.04283232,  0.02365951,  0.05745031,\n",
              "        -0.00030244, -0.00577279,  0.03177549, -0.00422849,  0.05284648]),\n",
              " 0.36436161983015336)"
            ]
          },
          "metadata": {},
          "execution_count": 7
        }
      ],
      "source": [
        "# ... ENTER YOUR CODE HERE ...\n",
        "def jacobi(A, b, num_it=1000):\n",
        "    n = A.shape[0]\n",
        "    diag_A = np.diag(A)\n",
        "    B = np.zeros_like(A)\n",
        "\n",
        "    for i in range(n):\n",
        "        for j in range(n):\n",
        "            if i != j:\n",
        "                B[i, j] = -A[i, j] / diag_A[i]\n",
        "\n",
        "    c = b / diag_A\n",
        "    norm = np.linalg.norm(B)\n",
        "\n",
        "    x0 = np.ones(n)\n",
        "    x = x0\n",
        "    for _ in range(num_it):\n",
        "        x = B @ x + c\n",
        "\n",
        "    return x, norm\n",
        "\n",
        "\n",
        "jacobi(A, b)"
      ]
    },
    {
      "cell_type": "markdown",
      "metadata": {
        "id": "iCOq_mz7ncdH"
      },
      "source": [
        "# II. Seidel's iteration."
      ]
    },
    {
      "cell_type": "markdown",
      "metadata": {
        "id": "te9MsGBencdH"
      },
      "source": [
        "##### Task II.1\n",
        "\n",
        "Implement the Seidel's iteration.\n",
        "\n",
        "Test it on a random matrix. Study the convergence of iterations, relate to the norm of the iteration matrix.\n",
        "\n",
        "(30% of the total grade)"
      ]
    },
    {
      "cell_type": "code",
      "execution_count": 8,
      "metadata": {
        "collapsed": true,
        "id": "JLE32zMxncdH",
        "colab": {
          "base_uri": "https://localhost:8080/"
        },
        "outputId": "a56aa651-ee9e-480f-9733-73f9a1a488c8"
      },
      "outputs": [
        {
          "output_type": "stream",
          "name": "stdout",
          "text": [
            "[[0.55023677 0.46260879 0.92634397 0.55387927 0.73113228 0.24069015\n",
            "  0.36119104 0.05609323 0.79271832 0.79127   ]\n",
            " [0.13681345 0.00544233 0.48929869 0.53592179 0.68670853 0.95538054\n",
            "  0.09291416 0.0638495  0.48852291 0.47054225]\n",
            " [0.9363455  0.67007034 0.04613604 0.67344904 0.35047814 0.13791389\n",
            "  0.93150188 0.70896135 0.43501103 0.76591055]\n",
            " [0.75500834 0.40171163 0.14723796 0.24832737 0.54136421 0.10586887\n",
            "  0.46271696 0.27254075 0.6032712  0.19446414]\n",
            " [0.32637471 0.28399311 0.12884414 0.65640229 0.19049124 0.16125886\n",
            "  0.96697425 0.32444531 0.35508147 0.31231128]\n",
            " [0.36743656 0.56110535 0.59956025 0.95062848 0.65066597 0.83885008\n",
            "  0.43877938 0.38199392 0.45072847 0.46228793]\n",
            " [0.44802987 0.26986376 0.10548617 0.9977702  0.74868178 0.3301447\n",
            "  0.50916151 0.65463998 0.15878148 0.17916064]\n",
            " [0.22517771 0.67660532 0.15589731 0.28586035 0.50122307 0.09638936\n",
            "  0.12886134 0.19488287 0.48152421 0.10062812]\n",
            " [0.2953252  0.16994135 0.8739273  0.49631712 0.24641884 0.85717588\n",
            "  0.03248567 0.96321427 0.64529405 0.56448959]\n",
            " [0.9402111  0.45513426 0.20940918 0.84523198 0.93207271 0.65196416\n",
            "  0.5309968  0.50989761 0.82628616 0.32550505]]\n",
            "1529.359698513688\n"
          ]
        }
      ],
      "source": [
        "# ... ENTER YOUR CODE HERE ...\n",
        "def gauss_seidel(A, b, x_0, tol, max_iter):\n",
        "\n",
        "  x = x_0.copy()\n",
        "\n",
        "  for i in range(max_iter):\n",
        "\n",
        "    for j in range(A.shape[0]):\n",
        "      x[j] = (b[j] - np.dot(A[j, :j], x[:j])) / A[j, j]\n",
        "\n",
        "    norm_x = np.linalg.norm(x - x_0)\n",
        "    if norm_x < tol:\n",
        "      break\n",
        "\n",
        "  return x\n",
        "\n",
        "A = np.random.rand(10, 10)\n",
        "b = np.random.rand(10)\n",
        "print(A)\n",
        "x = gauss_seidel(A, b, np.zeros(10), 1e-6, 100)\n",
        "\n",
        "true_x = np.linalg.solve(A, b)\n",
        "\n",
        "error = np.linalg.norm(x - true_x)\n",
        "print(error)\n",
        "\n",
        "error_list = []\n",
        "for i in range(1, 100):\n",
        "  x = gauss_seidel(A, b, np.zeros(10), 1e-6, i)\n",
        "  error_list.append(np.linalg.norm(x - true_x))"
      ]
    },
    {
      "cell_type": "markdown",
      "metadata": {
        "id": "Qdl3FS71ncdH"
      },
      "source": [
        "# III. Minimum residual scheme"
      ]
    },
    {
      "cell_type": "markdown",
      "metadata": {
        "id": "nObK6vkgncdH"
      },
      "source": [
        "### Task III.1\n",
        "\n",
        "Implement the $\\textit{minimum residual}$ scheme: an explicit non-stationary method, where at each step you select the iteration parameter $\\tau_n$ to minimize the residual $\\mathbf{r}_{n+1}$ given $\\mathbf{r}_n$. Test it on a random matrix, study the convergence to the solution, in terms of the norm of the residual and the deviation from the ground truth solution (which you can obtain using a direct method). Study how the iteration parameter $\\tau_n$ changes as iterations progress.\n",
        "\n",
        "(50% of the grade)"
      ]
    },
    {
      "cell_type": "code",
      "execution_count": null,
      "metadata": {
        "collapsed": true,
        "id": "DD4ZGftYncdI"
      },
      "outputs": [],
      "source": [
        "# ... ENTER YOUR CODE HERE ..."
      ]
    }
  ],
  "metadata": {
    "kernelspec": {
      "display_name": "Python 3",
      "language": "python",
      "name": "python3"
    },
    "language_info": {
      "codemirror_mode": {
        "name": "ipython",
        "version": 3
      },
      "file_extension": ".py",
      "mimetype": "text/x-python",
      "name": "python",
      "nbconvert_exporter": "python",
      "pygments_lexer": "ipython3",
      "version": "3.5.2"
    },
    "colab": {
      "provenance": [],
      "include_colab_link": true
    }
  },
  "nbformat": 4,
  "nbformat_minor": 0
}